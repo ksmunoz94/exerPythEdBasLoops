{
  "cells": [
    {
      "cell_type": "markdown",
      "source": [
        "### Instructions\n",
        "\n",
        "* Sign up for the free course on Educative, __Learn Python 3 From Scratch__\n",
        "* https://www.educative.io/courses/learn-python-3-from-scratch\n",
        "* Complete the programming exercises below as you go through the course.\n",
        "* Delete or comment out the line of code in each cell which says `raise NotImplementedError()` and replace it with your own."
      ],
      "metadata": {
        "deletable": false,
        "editable": false,
        "nbgrader": {
          "cell_type": "markdown",
          "checksum": "01d54d9a10f234aae61b7a0cd8690457",
          "grade": false,
          "grade_id": "cell-5ab185d846b6c8a5",
          "locked": true,
          "schema_version": 3,
          "solution": false,
          "task": false
        }
      },
      "id": "9fd612d8"
    },
    {
      "cell_type": "markdown",
      "source": [
        "# Educative - Loops\n",
        "\n",
        "https://www.educative.io/courses/learn-python-3-from-scratch/39MAKp0Ozq4"
      ],
      "metadata": {
        "deletable": false,
        "editable": false,
        "nbgrader": {
          "cell_type": "markdown",
          "checksum": "187298292e58fc67844e83173e80435c",
          "grade": false,
          "grade_id": "cell-a6e5eb8655382bf4",
          "locked": true,
          "schema_version": 3,
          "solution": false,
          "task": false
        }
      },
      "id": "e7accf06"
    },
    {
      "cell_type": "markdown",
      "source": [
        "### Exercises"
      ],
      "metadata": {
        "deletable": false,
        "editable": false,
        "nbgrader": {
          "cell_type": "markdown",
          "checksum": "184807b2d11f0c11fbdb60d76ac0e2ce",
          "grade": false,
          "grade_id": "cell-e5d93be0fdb2e303",
          "locked": true,
          "schema_version": 3,
          "solution": false,
          "task": false
        }
      },
      "id": "29245edf"
    },
    {
      "cell_type": "markdown",
      "source": [
        "Write your answers as comments in the cell below.\n",
        "\n",
        "* What are two types of loops in Python?"
      ],
      "metadata": {
        "deletable": false,
        "editable": false,
        "nbgrader": {
          "cell_type": "markdown",
          "checksum": "6a01e116d5ba3f389d8ce0a61bb7e25e",
          "grade": false,
          "grade_id": "cell-c164beab4dc95b96",
          "locked": true,
          "schema_version": 3,
          "solution": false,
          "task": false
        }
      },
      "id": "db71e4f9"
    },
    {
      "cell_type": "code",
      "source": [
        "The for loop\n",
        "the while loop "
      ],
      "outputs": [],
      "execution_count": null,
      "metadata": {
        "deletable": false,
        "nbgrader": {
          "cell_type": "code",
          "checksum": "ef41ee2ffda8be6f78c56ea9d5bed050",
          "grade": true,
          "grade_id": "cell-328403142c4bc137",
          "locked": false,
          "points": 1,
          "schema_version": 3,
          "solution": true,
          "task": false
        }
      },
      "id": "db95a113"
    },
    {
      "cell_type": "markdown",
      "source": [
        "Write code in the cell below.\n",
        "\n",
        "* Use a for loop to print the numbers 1 through 10 and if each number `is odd` or `is even`."
      ],
      "metadata": {
        "deletable": false,
        "editable": false,
        "nbgrader": {
          "cell_type": "markdown",
          "checksum": "60a0c1e227dca1c24707c9b89d7cb61e",
          "grade": false,
          "grade_id": "cell-5cd10f655defa7a9",
          "locked": true,
          "schema_version": 3,
          "solution": false,
          "task": false
        }
      },
      "id": "81d2e52e"
    },
    {
      "cell_type": "code",
      "source": [
        "for i in range(1,11):\n",
        "    if i%2 == 0:\n",
        "        print(i, \"is even\")\n",
        "    else: \n",
        "        print(i, \"is odd\")\n",
        "            "
      ],
      "outputs": [
        {
          "output_type": "stream",
          "name": "stdout",
          "text": [
            "1 is odd\n",
            "2 is even\n",
            "3 is odd\n",
            "4 is even\n",
            "5 is odd\n",
            "6 is even\n",
            "7 is odd\n",
            "8 is even\n",
            "9 is odd\n",
            "10 is even\n"
          ]
        }
      ],
      "execution_count": null,
      "metadata": {
        "deletable": false,
        "nbgrader": {
          "cell_type": "code",
          "checksum": "eea181725a7b57900d36e1abf6e47090",
          "grade": true,
          "grade_id": "cell-c438f3e46a5cd626",
          "locked": false,
          "points": 1,
          "schema_version": 3,
          "solution": true,
          "task": false
        },
        "noteable": {},
        "ExecuteTime": {
          "start_time": "2023-09-13T18:16:01.586115+00:00",
          "end_time": "2023-09-13T18:16:01.740910+00:00"
        }
      },
      "id": "1aa7533a"
    },
    {
      "cell_type": "markdown",
      "source": [
        "Write code in the cell below.\n",
        "\n",
        "* Given the list called `float_list`, use a for loop to multiply each number in the list by two.\n",
        "* Print the updated list after the for loop is completed."
      ],
      "metadata": {
        "deletable": false,
        "editable": false,
        "nbgrader": {
          "cell_type": "markdown",
          "checksum": "ba3300f6aa7fc31b6cce53d3eb7961c7",
          "grade": false,
          "grade_id": "cell-d818206ba2a28261",
          "locked": true,
          "schema_version": 3,
          "solution": false,
          "task": false
        }
      },
      "id": "68528cc7"
    },
    {
      "cell_type": "code",
      "source": [
        "float_list = [2.5, 16.42, 10.77, 8.3, 34.21]\n",
        "\n",
        "for i in range(0, len(float_list)):\n",
        "    float_list[i] = float_list[i] *2\n",
        "    \n",
        "print(float_list)\n",
        "\n",
        "\n"
      ],
      "outputs": [
        {
          "output_type": "stream",
          "name": "stdout",
          "text": [
            "[5.0, 32.84, 21.54, 16.6, 68.42]\n"
          ]
        }
      ],
      "execution_count": null,
      "metadata": {
        "deletable": false,
        "nbgrader": {
          "cell_type": "code",
          "checksum": "f0917d70120c4d6467ea45820df276b7",
          "grade": true,
          "grade_id": "cell-bb794d921b3d6e2c",
          "locked": false,
          "points": 1,
          "schema_version": 3,
          "solution": true,
          "task": false
        },
        "noteable": {},
        "ExecuteTime": {
          "start_time": "2023-09-13T18:19:50.955465+00:00",
          "end_time": "2023-09-13T18:19:51.111126+00:00"
        }
      },
      "id": "9e8f1860"
    },
    {
      "cell_type": "markdown",
      "source": [
        "Write code in the cell below.\n",
        "\n",
        "* Create a new variable called `count_greater`.\n",
        "* Given the list called `float_list`, use a for loop to count how many values in `float_list` are greater than 10.\n",
        "* Hint: Increase the value of `count_greater` by one for each value in the list which is greater than 10.\n",
        "* Print the value for `count_greater` after the for loop is completed."
      ],
      "metadata": {
        "deletable": false,
        "editable": false,
        "nbgrader": {
          "cell_type": "markdown",
          "checksum": "9ecd4765d29905cab2848ed3f405b911",
          "grade": false,
          "grade_id": "cell-1462ef5349265022",
          "locked": true,
          "schema_version": 3,
          "solution": false,
          "task": false
        }
      },
      "id": "d4ec0c91"
    },
    {
      "cell_type": "code",
      "source": [
        "float_list = [2.5, 16.42, 10.77, 8.3, 34.21]\n",
        "\n",
        "count_greater = 0\n",
        "\n",
        "for num in float_list: \n",
        "   if num > 10:\n",
        "        count_greater += 1\n",
        "   \n",
        "print(count_greater)\n",
        "\n",
        "\n"
      ],
      "outputs": [
        {
          "output_type": "stream",
          "name": "stdout",
          "text": [
            "3\n"
          ]
        }
      ],
      "execution_count": null,
      "metadata": {
        "deletable": false,
        "nbgrader": {
          "cell_type": "code",
          "checksum": "5d1ecbb32d90654192b9209c78c23698",
          "grade": true,
          "grade_id": "cell-6b749a1b90db81cf",
          "locked": false,
          "points": 1,
          "schema_version": 3,
          "solution": true,
          "task": false
        },
        "noteable": {},
        "ExecuteTime": {
          "start_time": "2023-09-13T18:22:38.528556+00:00",
          "end_time": "2023-09-13T18:22:38.684089+00:00"
        }
      },
      "id": "78bb43a2"
    },
    {
      "cell_type": "markdown",
      "source": [
        "Write code in the cell below.\n",
        "\n",
        "* Given the list called `num_list` and the variable `n`, use a nested for loop to see which values in the list sum to `n` and print the values."
      ],
      "metadata": {
        "deletable": false,
        "editable": false,
        "nbgrader": {
          "cell_type": "markdown",
          "checksum": "fbc72745d177ef44583cbaacb45c48b4",
          "grade": false,
          "grade_id": "cell-fe480bd003da46b3",
          "locked": true,
          "schema_version": 3,
          "solution": false,
          "task": false
        }
      },
      "id": "6bac6ffa"
    },
    {
      "cell_type": "code",
      "source": [
        "n = 50\n",
        "num_list = [10, 4, 23, 6, 18, 27, 47]\n",
        "found= False\n",
        "for n1 in num_list:\n",
        "    for n2 in num_list:\n",
        "        if(n1 != n2):\n",
        "            if(n1 +n2 == n):\n",
        "                found = True\n",
        "                break\n",
        "    if found:\n",
        "        print(n1, n2)\n",
        "        break\n"
      ],
      "outputs": [
        {
          "output_type": "stream",
          "name": "stdout",
          "text": [
            "23 27\n"
          ]
        }
      ],
      "execution_count": null,
      "metadata": {
        "deletable": false,
        "nbgrader": {
          "cell_type": "code",
          "checksum": "daff5a029de0c643eb9e41d4e0393aba",
          "grade": true,
          "grade_id": "cell-8905b0eedcab08df",
          "locked": false,
          "points": 2,
          "schema_version": 3,
          "solution": true,
          "task": false
        },
        "noteable": {},
        "ExecuteTime": {
          "start_time": "2023-09-13T18:32:12.611269+00:00",
          "end_time": "2023-09-13T18:32:12.767592+00:00"
        }
      },
      "id": "8bcc51bf"
    },
    {
      "cell_type": "markdown",
      "source": [
        "Write your answers as comments in the cell below.\n",
        "\n",
        "* What does the `break` keyword do?\n",
        "* What does the `continue` keyword do?\n",
        "* What does the `pass` keyword do?"
      ],
      "metadata": {
        "deletable": false,
        "editable": false,
        "nbgrader": {
          "cell_type": "markdown",
          "checksum": "686bc3773ce52e27541789342d8cd6fd",
          "grade": false,
          "grade_id": "cell-731276be9fa5f5f6",
          "locked": true,
          "schema_version": 3,
          "solution": false,
          "task": false
        }
      },
      "id": "11763f71"
    },
    {
      "cell_type": "code",
      "source": [
        "the break keyword can break the loop whenever we want\n",
        "When the continue keyword is used, the rest of that particular iteration is skipped. The loop continues on to the next iteration. We can say that it doesn’t break the loop, but it skips all the code in the current iteration and moves to the next one. \n",
        "The pass keyword can be used to represent an area of code that needs to be written. It is there to assist you when you haven’t written a piece of code but still need your entire program to execute."
      ],
      "outputs": [
        {
          "output_type": "error",
          "ename": "SyntaxError",
          "evalue": "invalid syntax (498123039.py, line 1)",
          "traceback": [
            "\u001b[0;36m  Cell \u001b[0;32mIn[30], line 1\u001b[0;36m\u001b[0m\n\u001b[0;31m    the break keyword can break the loop whenever we want\u001b[0m\n\u001b[0m        ^\u001b[0m\n\u001b[0;31mSyntaxError\u001b[0m\u001b[0;31m:\u001b[0m invalid syntax\n"
          ]
        }
      ],
      "execution_count": null,
      "metadata": {
        "deletable": false,
        "nbgrader": {
          "cell_type": "code",
          "checksum": "46b8cd046da3e40ab0cf570ea60351d5",
          "grade": true,
          "grade_id": "cell-99296d2c35866661",
          "locked": false,
          "points": 3,
          "schema_version": 3,
          "solution": true,
          "task": false
        },
        "noteable": {},
        "ExecuteTime": {
          "start_time": "2023-09-13T18:34:29.948446+00:00",
          "end_time": "2023-09-13T18:34:30.103774+00:00"
        },
        "jupyter": {
          "outputs_hidden": true
        }
      },
      "id": "e7c09890"
    },
    {
      "cell_type": "markdown",
      "source": [
        "Write code in the cell below.\n",
        "\n",
        "* Create a variable named `n` and assign it a value between 2 and 10.\n",
        "* Use a while loop that finds the maximum power of `n` before the value exceeds 1000."
      ],
      "metadata": {
        "deletable": false,
        "editable": false,
        "nbgrader": {
          "cell_type": "markdown",
          "checksum": "a9d4cbdc22ca466eabc9d557e4506be7",
          "grade": false,
          "grade_id": "cell-723e93919a00daae",
          "locked": true,
          "schema_version": 3,
          "solution": false,
          "task": false
        }
      },
      "id": "0c6df358"
    },
    {
      "cell_type": "code",
      "source": [
        "n = 6\n",
        "power = 0\n",
        "val = n\n",
        "while val < 1000:\n",
        "    power += 1\n",
        "    val *= n\n",
        "print(power)\n"
      ],
      "outputs": [
        {
          "output_type": "stream",
          "name": "stdout",
          "text": [
            "3\n"
          ]
        }
      ],
      "execution_count": null,
      "metadata": {
        "deletable": false,
        "nbgrader": {
          "cell_type": "code",
          "checksum": "7f5989ecdd385b16a7b52c44432a4dd5",
          "grade": true,
          "grade_id": "cell-17bbe6ea661af987",
          "locked": false,
          "points": 2,
          "schema_version": 3,
          "solution": true,
          "task": false
        },
        "noteable": {},
        "ExecuteTime": {
          "start_time": "2023-09-13T18:40:55.972578+00:00",
          "end_time": "2023-09-13T18:40:56.127710+00:00"
        }
      },
      "id": "f70863fe"
    },
    {
      "cell_type": "markdown",
      "source": [
        "Write code in the cell below.\n",
        "\n",
        "* Given an integer `n`, compute the sum of the first and last digit of `n`.\n",
        "* Hint: You can find the last digit easily by dividing `n` by 10 and finding the remainder.\n",
        "* Hint: You can find the first digit by using a while loop and floor division.\n",
        "* Print the result."
      ],
      "metadata": {
        "deletable": false,
        "editable": false,
        "nbgrader": {
          "cell_type": "markdown",
          "checksum": "aeb76016fe8cf3da3f2cc9705d1ca5cb",
          "grade": false,
          "grade_id": "cell-9186131f7f1ff6c9",
          "locked": true,
          "schema_version": 3,
          "solution": false,
          "task": false
        }
      },
      "id": "54d2b690"
    },
    {
      "cell_type": "code",
      "source": [
        "n = 249\n",
        "last = n% 10\n",
        "first = n\n",
        "while first >= 10:\n",
        "    first //= 10\n",
        "    \n",
        "result = first + last\n",
        "print(result)\n",
        "\n"
      ],
      "outputs": [
        {
          "output_type": "stream",
          "name": "stdout",
          "text": [
            "11\n"
          ]
        }
      ],
      "execution_count": null,
      "metadata": {
        "deletable": false,
        "nbgrader": {
          "cell_type": "code",
          "checksum": "c75a644aee94be1076da6f413f5b9ed1",
          "grade": true,
          "grade_id": "cell-396430a5872a8707",
          "locked": false,
          "points": 2,
          "schema_version": 3,
          "solution": true,
          "task": false
        },
        "noteable": {},
        "ExecuteTime": {
          "start_time": "2023-09-13T18:42:36.826368+00:00",
          "end_time": "2023-09-13T18:42:36.982582+00:00"
        }
      },
      "id": "92b9c0b7"
    }
  ],
  "metadata": {
    "kernelspec": {
      "display_name": "Python 3.9",
      "language": "python",
      "name": "python3"
    },
    "language_info": {
      "codemirror_mode": {
        "name": "ipython",
        "version": 3
      },
      "file_extension": ".py",
      "mimetype": "text/x-python",
      "name": "python",
      "nbconvert_exporter": "python",
      "pygments_lexer": "ipython3",
      "version": "3.8.8"
    },
    "noteable": {
      "last_delta_id": "d414ca89-4fa7-44f8-8fdd-496c65d8a7b6"
    },
    "selected_hardware_size": "small",
    "kernel_info": {
      "name": "python3"
    },
    "nteract": {
      "version": "noteable@2.9.0"
    }
  },
  "nbformat": 4,
  "nbformat_minor": 5
}